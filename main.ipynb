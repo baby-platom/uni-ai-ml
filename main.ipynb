{
 "cells": [
  {
   "cell_type": "markdown",
   "id": "13b88c98",
   "metadata": {},
   "source": [
    "# Global Coffee Health: End-to-End ML Pipeline (Classification)\n",
    "## by Yegorchenkov Platon (GH1024875)\n",
    "- GitHub URL: https://github.com/baby-platom/uni-ai-ml\n",
    "- Dataset source URL: https://www.kaggle.com/datasets/uom190346a/global-coffee-health-dataset"
   ]
  },
  {
   "cell_type": "markdown",
   "id": "787c8323",
   "metadata": {},
   "source": [
    "## Problem Statement\n",
    "A coffee company wants to be able to predict the **sleep quality** of the customers. In case the anticipated **sleep quality** is low, the health routines (lower-caffeine options, decaff, personalized recommendation) can be promoted to the customers. If we can relatively reliably anticipate the poor sleep, we could:\n",
    "- `Reduce churn rates & increase the Lifetime Value`: if we proactively handle the at-risk users, we can suggest healthier consumption patterns\n",
    "- `Boost customer wellbeing`: if there're fewer sleep complaints, the sattisfaction and brand trust are on the higher levels\n",
    "- `Tailor the products`: target content and the related recommendations based on a risk level\n",
    "\n",
    "### Data collection\n",
    "The data, in practice, could originate from\n",
    "- User profile: age, gender, country, occupation\n",
    "- Habit tracking: the number of cups per day, physical activities, the bad habits\n",
    "- Wearables: heart rate, sleep hours\n",
    "\n",
    "In practice, we have an already collected dataset with the numerous rich features\n",
    "\n",
    "### Goal\n",
    "Predict **sleep quality** (Excellent / Good / Fair / Poor) based on the lifestyle, coffee consumption and demographics. \n",
    "\n",
    "### ML task\n",
    "Multitask classification to predict `Sleep_Quality ∈ {Excellent, Good, Fair, Poor}`\n",
    "\n",
    "### Success criteria\n",
    "We want to get the balanced performance across the classes (not just the majority). Use `Macro-F1` and `Balanced Accuracy` as the primary metrics. Additionally, use confusion matrix and classification report (precision, recall, and F1 for each class).\n"
   ]
  },
  {
   "cell_type": "markdown",
   "id": "cae50516",
   "metadata": {},
   "source": [
    "## Data Exploration"
   ]
  },
  {
   "cell_type": "code",
   "execution_count": null,
   "id": "99dac45d",
   "metadata": {},
   "outputs": [
    {
     "data": {
      "text/html": [
       "<div>\n",
       "<style scoped>\n",
       "    .dataframe tbody tr th:only-of-type {\n",
       "        vertical-align: middle;\n",
       "    }\n",
       "\n",
       "    .dataframe tbody tr th {\n",
       "        vertical-align: top;\n",
       "    }\n",
       "\n",
       "    .dataframe thead th {\n",
       "        text-align: right;\n",
       "    }\n",
       "</style>\n",
       "<table border=\"1\" class=\"dataframe\">\n",
       "  <thead>\n",
       "    <tr style=\"text-align: right;\">\n",
       "      <th></th>\n",
       "      <th>ID</th>\n",
       "      <th>Age</th>\n",
       "      <th>Gender</th>\n",
       "      <th>Country</th>\n",
       "      <th>Coffee_Intake</th>\n",
       "      <th>Caffeine_mg</th>\n",
       "      <th>Sleep_Hours</th>\n",
       "      <th>Sleep_Quality</th>\n",
       "      <th>BMI</th>\n",
       "      <th>Heart_Rate</th>\n",
       "      <th>Stress_Level</th>\n",
       "      <th>Physical_Activity_Hours</th>\n",
       "      <th>Health_Issues</th>\n",
       "      <th>Occupation</th>\n",
       "      <th>Smoking</th>\n",
       "      <th>Alcohol_Consumption</th>\n",
       "    </tr>\n",
       "  </thead>\n",
       "  <tbody>\n",
       "    <tr>\n",
       "      <th>0</th>\n",
       "      <td>1</td>\n",
       "      <td>40</td>\n",
       "      <td>Male</td>\n",
       "      <td>Germany</td>\n",
       "      <td>3.5</td>\n",
       "      <td>328.1</td>\n",
       "      <td>7.5</td>\n",
       "      <td>Good</td>\n",
       "      <td>24.9</td>\n",
       "      <td>78</td>\n",
       "      <td>Low</td>\n",
       "      <td>14.5</td>\n",
       "      <td>NaN</td>\n",
       "      <td>Other</td>\n",
       "      <td>0</td>\n",
       "      <td>0</td>\n",
       "    </tr>\n",
       "    <tr>\n",
       "      <th>1</th>\n",
       "      <td>2</td>\n",
       "      <td>33</td>\n",
       "      <td>Male</td>\n",
       "      <td>Germany</td>\n",
       "      <td>1.0</td>\n",
       "      <td>94.1</td>\n",
       "      <td>6.2</td>\n",
       "      <td>Good</td>\n",
       "      <td>20.0</td>\n",
       "      <td>67</td>\n",
       "      <td>Low</td>\n",
       "      <td>11.0</td>\n",
       "      <td>NaN</td>\n",
       "      <td>Service</td>\n",
       "      <td>0</td>\n",
       "      <td>0</td>\n",
       "    </tr>\n",
       "    <tr>\n",
       "      <th>2</th>\n",
       "      <td>3</td>\n",
       "      <td>42</td>\n",
       "      <td>Male</td>\n",
       "      <td>Brazil</td>\n",
       "      <td>5.3</td>\n",
       "      <td>503.7</td>\n",
       "      <td>5.9</td>\n",
       "      <td>Fair</td>\n",
       "      <td>22.7</td>\n",
       "      <td>59</td>\n",
       "      <td>Medium</td>\n",
       "      <td>11.2</td>\n",
       "      <td>Mild</td>\n",
       "      <td>Office</td>\n",
       "      <td>0</td>\n",
       "      <td>0</td>\n",
       "    </tr>\n",
       "    <tr>\n",
       "      <th>3</th>\n",
       "      <td>4</td>\n",
       "      <td>53</td>\n",
       "      <td>Male</td>\n",
       "      <td>Germany</td>\n",
       "      <td>2.6</td>\n",
       "      <td>249.2</td>\n",
       "      <td>7.3</td>\n",
       "      <td>Good</td>\n",
       "      <td>24.7</td>\n",
       "      <td>71</td>\n",
       "      <td>Low</td>\n",
       "      <td>6.6</td>\n",
       "      <td>Mild</td>\n",
       "      <td>Other</td>\n",
       "      <td>0</td>\n",
       "      <td>0</td>\n",
       "    </tr>\n",
       "    <tr>\n",
       "      <th>4</th>\n",
       "      <td>5</td>\n",
       "      <td>32</td>\n",
       "      <td>Female</td>\n",
       "      <td>Spain</td>\n",
       "      <td>3.1</td>\n",
       "      <td>298.0</td>\n",
       "      <td>5.3</td>\n",
       "      <td>Fair</td>\n",
       "      <td>24.1</td>\n",
       "      <td>76</td>\n",
       "      <td>Medium</td>\n",
       "      <td>8.5</td>\n",
       "      <td>Mild</td>\n",
       "      <td>Student</td>\n",
       "      <td>0</td>\n",
       "      <td>1</td>\n",
       "    </tr>\n",
       "  </tbody>\n",
       "</table>\n",
       "</div>"
      ],
      "text/plain": [
       "   ID  Age  Gender  Country  Coffee_Intake  Caffeine_mg  Sleep_Hours  \\\n",
       "0   1   40    Male  Germany            3.5        328.1          7.5   \n",
       "1   2   33    Male  Germany            1.0         94.1          6.2   \n",
       "2   3   42    Male   Brazil            5.3        503.7          5.9   \n",
       "3   4   53    Male  Germany            2.6        249.2          7.3   \n",
       "4   5   32  Female    Spain            3.1        298.0          5.3   \n",
       "\n",
       "  Sleep_Quality   BMI  Heart_Rate Stress_Level  Physical_Activity_Hours  \\\n",
       "0          Good  24.9          78          Low                     14.5   \n",
       "1          Good  20.0          67          Low                     11.0   \n",
       "2          Fair  22.7          59       Medium                     11.2   \n",
       "3          Good  24.7          71          Low                      6.6   \n",
       "4          Fair  24.1          76       Medium                      8.5   \n",
       "\n",
       "  Health_Issues Occupation  Smoking  Alcohol_Consumption  \n",
       "0           NaN      Other        0                    0  \n",
       "1           NaN    Service        0                    0  \n",
       "2          Mild     Office        0                    0  \n",
       "3          Mild      Other        0                    0  \n",
       "4          Mild    Student        0                    1  "
      ]
     },
     "execution_count": 41,
     "metadata": {},
     "output_type": "execute_result"
    }
   ],
   "source": [
    "from pathlib import Path\n",
    "\n",
    "import pandas as pd\n",
    "\n",
    "SEED = 42\n",
    "\n",
    "data_path = Path(\"dataset.csv\")\n",
    "df = pd.read_csv(data_path)\n",
    "\n",
    "df.head()"
   ]
  },
  {
   "cell_type": "code",
   "execution_count": 42,
   "id": "3fd04ae4",
   "metadata": {},
   "outputs": [
    {
     "data": {
      "text/plain": [
       "((10000, 16),\n",
       " ID                           int64\n",
       " Age                          int64\n",
       " Gender                      object\n",
       " Country                     object\n",
       " Coffee_Intake              float64\n",
       " Caffeine_mg                float64\n",
       " Sleep_Hours                float64\n",
       " Sleep_Quality               object\n",
       " BMI                        float64\n",
       " Heart_Rate                   int64\n",
       " Stress_Level                object\n",
       " Physical_Activity_Hours    float64\n",
       " Health_Issues               object\n",
       " Occupation                  object\n",
       " Smoking                      int64\n",
       " Alcohol_Consumption          int64\n",
       " dtype: object)"
      ]
     },
     "execution_count": 42,
     "metadata": {},
     "output_type": "execute_result"
    }
   ],
   "source": [
    "df.shape, df.dtypes"
   ]
  },
  {
   "cell_type": "code",
   "execution_count": 43,
   "id": "d8188c74",
   "metadata": {},
   "outputs": [
    {
     "data": {
      "text/plain": [
       "(Health_Issues              5941\n",
       " ID                            0\n",
       " Age                           0\n",
       " Gender                        0\n",
       " Country                       0\n",
       " Coffee_Intake                 0\n",
       " Caffeine_mg                   0\n",
       " Sleep_Hours                   0\n",
       " Sleep_Quality                 0\n",
       " BMI                           0\n",
       " Heart_Rate                    0\n",
       " Stress_Level                  0\n",
       " Physical_Activity_Hours       0\n",
       " Occupation                    0\n",
       " Smoking                       0\n",
       " Alcohol_Consumption           0\n",
       " dtype: int64,\n",
       " np.int64(0))"
      ]
     },
     "execution_count": 43,
     "metadata": {},
     "output_type": "execute_result"
    }
   ],
   "source": [
    "missing = df.isna().sum().sort_values(ascending=False)\n",
    "duplicates = df.duplicated().sum()\n",
    "missing, duplicates"
   ]
  },
  {
   "cell_type": "markdown",
   "id": "292d0c54",
   "metadata": {},
   "source": [
    "The only column that has \"missing values\" is `Health_Issues`. However, when a cell in the `Health_Issues` column is `NaN`, it means that a person just has no health issues. \n",
    "\n",
    "Since for categorical features we will use a `OneHotEncoder`, it will encode it just as one of the categories. Considering that there're 10 thousand rows in total, the 5941 records with no `Health_Issues` is the most popular category for this feature.\n",
    "\n",
    "We also have no duplicates"
   ]
  },
  {
   "cell_type": "markdown",
   "id": "8d3265d4",
   "metadata": {},
   "source": [
    "### Dependent variable distribution"
   ]
  },
  {
   "cell_type": "code",
   "execution_count": 44,
   "id": "0d702ac1",
   "metadata": {},
   "outputs": [
    {
     "data": {
      "image/png": "[encoded data removed]",
      "text/plain": [
       "<Figure size 640x480 with 1 Axes>"
      ]
     },
     "metadata": {},
     "output_type": "display_data"
    }
   ],
   "source": [
    "import matplotlib.pyplot as plt\n",
    "\n",
    "ax = df[\"Sleep_Quality\"].value_counts().plot(kind=\"bar\", rot=0)\n",
    "ax.set_title(\"Sleep_Quality distribution\")\n",
    "\n",
    "total = len(df)\n",
    "for p in ax.patches:\n",
    "    height = p.get_height()\n",
    "    percent = f\"{height / total:.1%}\"\n",
    "    ax.text(p.get_x() + p.get_width() / 2, height, percent, ha=\"center\", va=\"bottom\")\n",
    "\n",
    "plt.show()"
   ]
  },
  {
   "cell_type": "markdown",
   "id": "e5776f69",
   "metadata": {},
   "source": [
    "We can observe that the `Sleep_Quality` is imbalanced, though not extremely:\n",
    "- `Good` makes up over a half of the observed cases\n",
    "- `Poor` accounts for less than 10%\n",
    "\n",
    "To handle this, we will use `stratified splits` to ensure that the class proportions remain the same within the subsets. We are using `Macro-F1`, so the classes are threated equally within the model, so the imbalance is treated."
   ]
  },
  {
   "cell_type": "markdown",
   "id": "63b64a04",
   "metadata": {},
   "source": [
    "## Leakage"
   ]
  },
  {
   "cell_type": "code",
   "execution_count": 45,
   "id": "2ede854a",
   "metadata": {},
   "outputs": [
    {
     "data": {
      "text/html": [
       "<div>\n",
       "<style scoped>\n",
       "    .dataframe tbody tr th:only-of-type {\n",
       "        vertical-align: middle;\n",
       "    }\n",
       "\n",
       "    .dataframe tbody tr th {\n",
       "        vertical-align: top;\n",
       "    }\n",
       "\n",
       "    .dataframe thead th {\n",
       "        text-align: right;\n",
       "    }\n",
       "</style>\n",
       "<table border=\"1\" class=\"dataframe\">\n",
       "  <thead>\n",
       "    <tr style=\"text-align: right;\">\n",
       "      <th></th>\n",
       "      <th>mean</th>\n",
       "      <th>std</th>\n",
       "      <th>count</th>\n",
       "    </tr>\n",
       "    <tr>\n",
       "      <th>Sleep_Quality</th>\n",
       "      <th></th>\n",
       "      <th></th>\n",
       "      <th></th>\n",
       "    </tr>\n",
       "  </thead>\n",
       "  <tbody>\n",
       "    <tr>\n",
       "      <th>Excellent</th>\n",
       "      <td>8.593565</td>\n",
       "      <td>0.499959</td>\n",
       "      <td>1352</td>\n",
       "    </tr>\n",
       "    <tr>\n",
       "      <th>Fair</th>\n",
       "      <td>5.576732</td>\n",
       "      <td>0.278688</td>\n",
       "      <td>2050</td>\n",
       "    </tr>\n",
       "    <tr>\n",
       "      <th>Good</th>\n",
       "      <td>6.924446</td>\n",
       "      <td>0.549481</td>\n",
       "      <td>5637</td>\n",
       "    </tr>\n",
       "    <tr>\n",
       "      <th>Poor</th>\n",
       "      <td>4.451925</td>\n",
       "      <td>0.456320</td>\n",
       "      <td>961</td>\n",
       "    </tr>\n",
       "  </tbody>\n",
       "</table>\n",
       "</div>"
      ],
      "text/plain": [
       "                   mean       std  count\n",
       "Sleep_Quality                           \n",
       "Excellent      8.593565  0.499959   1352\n",
       "Fair           5.576732  0.278688   2050\n",
       "Good           6.924446  0.549481   5637\n",
       "Poor           4.451925  0.456320    961"
      ]
     },
     "execution_count": 45,
     "metadata": {},
     "output_type": "execute_result"
    }
   ],
   "source": [
    "df.groupby(\"Sleep_Quality\")[\"Sleep_Hours\"].agg([\"mean\", \"std\", \"count\"])"
   ]
  },
  {
   "cell_type": "markdown",
   "id": "8fbe8ad7",
   "metadata": {},
   "source": [
    "The `Sleep_Quality` is likely a binning of `Sleep_Hours`:\n",
    "- Excellent ≈ 8.59h\n",
    "- Good ≈ 6.92h\n",
    "- Fair ≈ 5.58h\n",
    "- Poor ≈ 4.45h\n",
    "\n",
    "Except for the **Monotonic ordering** (the higher sleep hours mean better quality) we also observe:\n",
    "- Small standard deviation: every group has tight clustering\n",
    "- Clear thresholds: the mean values are near the integer values, like bins boundaries\n",
    "\n",
    "So, it's very likely that the `Sleep_Quality` is derived from `Sleep_Hours`. To avoid the leakage, we will drop the `Sleep_Hours`."
   ]
  },
  {
   "cell_type": "code",
   "execution_count": 46,
   "id": "8053ffe8",
   "metadata": {},
   "outputs": [
    {
     "data": {
      "text/html": [
       "<div>\n",
       "<style scoped>\n",
       "    .dataframe tbody tr th:only-of-type {\n",
       "        vertical-align: middle;\n",
       "    }\n",
       "\n",
       "    .dataframe tbody tr th {\n",
       "        vertical-align: top;\n",
       "    }\n",
       "\n",
       "    .dataframe thead th {\n",
       "        text-align: right;\n",
       "    }\n",
       "</style>\n",
       "<table border=\"1\" class=\"dataframe\">\n",
       "  <thead>\n",
       "    <tr style=\"text-align: right;\">\n",
       "      <th>Stress_Level</th>\n",
       "      <th>High</th>\n",
       "      <th>Low</th>\n",
       "      <th>Medium</th>\n",
       "    </tr>\n",
       "    <tr>\n",
       "      <th>Sleep_Quality</th>\n",
       "      <th></th>\n",
       "      <th></th>\n",
       "      <th></th>\n",
       "    </tr>\n",
       "  </thead>\n",
       "  <tbody>\n",
       "    <tr>\n",
       "      <th>Excellent</th>\n",
       "      <td>0</td>\n",
       "      <td>1352</td>\n",
       "      <td>0</td>\n",
       "    </tr>\n",
       "    <tr>\n",
       "      <th>Fair</th>\n",
       "      <td>0</td>\n",
       "      <td>0</td>\n",
       "      <td>2050</td>\n",
       "    </tr>\n",
       "    <tr>\n",
       "      <th>Good</th>\n",
       "      <td>0</td>\n",
       "      <td>5637</td>\n",
       "      <td>0</td>\n",
       "    </tr>\n",
       "    <tr>\n",
       "      <th>Poor</th>\n",
       "      <td>961</td>\n",
       "      <td>0</td>\n",
       "      <td>0</td>\n",
       "    </tr>\n",
       "  </tbody>\n",
       "</table>\n",
       "</div>"
      ],
      "text/plain": [
       "Stress_Level   High   Low  Medium\n",
       "Sleep_Quality                    \n",
       "Excellent         0  1352       0\n",
       "Fair              0     0    2050\n",
       "Good              0  5637       0\n",
       "Poor            961     0       0"
      ]
     },
     "execution_count": 46,
     "metadata": {},
     "output_type": "execute_result"
    }
   ],
   "source": [
    "pd.crosstab(df[\"Sleep_Quality\"], df[\"Stress_Level\"])"
   ]
  },
  {
   "cell_type": "markdown",
   "id": "f9b3bb2a",
   "metadata": {},
   "source": [
    "It's another leakege and here it's perfect: every `Sleep_Quality` level is strictly matched with a corresponding `Stress_Level`. We will also drop the `Stress_Level`."
   ]
  },
  {
   "cell_type": "markdown",
   "id": "405b5bcb",
   "metadata": {},
   "source": [
    "## Redundancy analysis"
   ]
  },
  {
   "cell_type": "code",
   "execution_count": 47,
   "id": "cb60268a",
   "metadata": {},
   "outputs": [
    {
     "data": {
      "text/plain": [
       "np.float64(0.9998135731303948)"
      ]
     },
     "execution_count": 47,
     "metadata": {},
     "output_type": "execute_result"
    }
   ],
   "source": [
    "(df[[\"Caffeine_mg\", \"Coffee_Intake\"]].corr().iloc[0, 1])"
   ]
  },
  {
   "cell_type": "markdown",
   "id": "f7cb010a",
   "metadata": {},
   "source": [
    "The correlation between `Caffeine_mg` and `Coffee_Intake` is extremely high, we could anticipate that. One of the columns is redundant, we will keep `Coffee_Intake` (it's easier to interpret) and drop the `Caffeine_mg`"
   ]
  },
  {
   "cell_type": "code",
   "execution_count": 48,
   "id": "b7d1117f",
   "metadata": {},
   "outputs": [
    {
     "data": {
      "text/html": [
       "<div>\n",
       "<style scoped>\n",
       "    .dataframe tbody tr th:only-of-type {\n",
       "        vertical-align: middle;\n",
       "    }\n",
       "\n",
       "    .dataframe tbody tr th {\n",
       "        vertical-align: top;\n",
       "    }\n",
       "\n",
       "    .dataframe thead th {\n",
       "        text-align: right;\n",
       "    }\n",
       "</style>\n",
       "<table border=\"1\" class=\"dataframe\">\n",
       "  <thead>\n",
       "    <tr style=\"text-align: right;\">\n",
       "      <th>Sleep_Quality</th>\n",
       "      <th>Excellent</th>\n",
       "      <th>Fair</th>\n",
       "      <th>Good</th>\n",
       "      <th>Poor</th>\n",
       "    </tr>\n",
       "    <tr>\n",
       "      <th>Health_Issues</th>\n",
       "      <th></th>\n",
       "      <th></th>\n",
       "      <th></th>\n",
       "      <th></th>\n",
       "    </tr>\n",
       "  </thead>\n",
       "  <tbody>\n",
       "    <tr>\n",
       "      <th>Mild</th>\n",
       "      <td>0.060352</td>\n",
       "      <td>0.491199</td>\n",
       "      <td>0.221011</td>\n",
       "      <td>0.227438</td>\n",
       "    </tr>\n",
       "    <tr>\n",
       "      <th>Moderate</th>\n",
       "      <td>0.012959</td>\n",
       "      <td>0.600432</td>\n",
       "      <td>0.075594</td>\n",
       "      <td>0.311015</td>\n",
       "    </tr>\n",
       "    <tr>\n",
       "      <th>Severe</th>\n",
       "      <td>0.000000</td>\n",
       "      <td>0.823529</td>\n",
       "      <td>0.000000</td>\n",
       "      <td>0.176471</td>\n",
       "    </tr>\n",
       "    <tr>\n",
       "      <th>NaN</th>\n",
       "      <td>0.190204</td>\n",
       "      <td>0.000000</td>\n",
       "      <td>0.809796</td>\n",
       "      <td>0.000000</td>\n",
       "    </tr>\n",
       "  </tbody>\n",
       "</table>\n",
       "</div>"
      ],
      "text/plain": [
       "Sleep_Quality  Excellent      Fair      Good      Poor\n",
       "Health_Issues                                         \n",
       "Mild            0.060352  0.491199  0.221011  0.227438\n",
       "Moderate        0.012959  0.600432  0.075594  0.311015\n",
       "Severe          0.000000  0.823529  0.000000  0.176471\n",
       "NaN             0.190204  0.000000  0.809796  0.000000"
      ]
     },
     "execution_count": 48,
     "metadata": {},
     "output_type": "execute_result"
    }
   ],
   "source": [
    "pd.crosstab(df[\"Health_Issues\"], df[\"Sleep_Quality\"], normalize=\"index\", dropna=False)"
   ]
  },
  {
   "cell_type": "markdown",
   "id": "ba695f39",
   "metadata": {},
   "source": [
    "The `Health_Issues` seems to be highly alligned with the `Sleep_Quality`. So the `Health_Issues` is not an independent predictor. This may dominate and mask the other casual effects in the model.\n",
    "\n",
    "To be conservative about causality, we'll check the model without (excluding) the `Health_Issues` during the sensitivity analysis. "
   ]
  },
  {
   "cell_type": "markdown",
   "id": "7dc9d325",
   "metadata": {},
   "source": [
    "## Numeric relationships"
   ]
  },
  {
   "cell_type": "code",
   "execution_count": 49,
   "id": "be457425",
   "metadata": {},
   "outputs": [
    {
     "data": {
      "text/plain": [
       "Sleep_Hours                1.000000\n",
       "BMI                        0.008463\n",
       "Smoking                    0.007955\n",
       "Age                        0.005010\n",
       "Alcohol_Consumption       -0.003375\n",
       "Physical_Activity_Hours   -0.011228\n",
       "Heart_Rate                -0.036219\n",
       "Coffee_Intake             -0.190291\n",
       "Caffeine_mg               -0.190493\n",
       "Name: Sleep_Hours, dtype: float64"
      ]
     },
     "execution_count": 49,
     "metadata": {},
     "output_type": "execute_result"
    }
   ],
   "source": [
    "num = df.select_dtypes(\"number\").drop(columns=[\"ID\"])\n",
    "num.corr()[\"Sleep_Hours\"].sort_values(ascending=False)"
   ]
  },
  {
   "cell_type": "markdown",
   "id": "1a8f96ba",
   "metadata": {},
   "source": [
    "The strongest correlations are among `Coffee_Intake` and `Caffeine_mg`: about `-0.190` for each. Though it reflects that the people consuming more caffeine tend to sleep less, the correlation is weak. "
   ]
  }
 ],
 "metadata": {
  "kernelspec": {
   "display_name": ".venv",
   "language": "python",
   "name": "python3"
  },
  "language_info": {
   "codemirror_mode": {
    "name": "ipython",
    "version": 3
   },
   "file_extension": ".py",
   "mimetype": "text/x-python",
   "name": "python",
   "nbconvert_exporter": "python",
   "pygments_lexer": "ipython3",
   "version": "3.12.7"
  }
 },
 "nbformat": 4,
 "nbformat_minor": 5
}
